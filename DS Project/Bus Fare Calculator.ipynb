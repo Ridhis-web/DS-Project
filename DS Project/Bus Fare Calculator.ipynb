{
 "cells": [
  {
   "cell_type": "code",
   "execution_count": 2,
   "id": "cafca710-a6cd-4483-9a23-87738832bd00",
   "metadata": {},
   "outputs": [
    {
     "name": "stdin",
     "output_type": "stream",
     "text": [
      " Enter your age:  52\n"
     ]
    },
    {
     "name": "stdout",
     "output_type": "stream",
     "text": [
      " Actual fare applied\n",
      "Total fare applied/pay: Rs 100\n"
     ]
    }
   ],
   "source": [
    "# Bus Fare CalC. (Age-Based Discount)\n",
    "a_fare = 100\n",
    "age = int (input (' Enter your age: '))\n",
    "if age<= 5:\n",
    "    fare = 0\n",
    "    print (' Baby ride is free')\n",
    "elif age<= 12:\n",
    "    fare = a_fare * 0.5\n",
    "    print ('child discount')\n",
    "elif age>= 60:\n",
    "    fare = a_fare * 0.7\n",
    "    print ('Senior citizen discount')\n",
    "else:\n",
    "    fare = a_fare\n",
    "    print (' Actual fare applied')\n",
    "    print ('Total fare applied/pay: Rs', fare)"
   ]
  },
  {
   "cell_type": "code",
   "execution_count": null,
   "id": "76463f89-c682-4423-8ab6-b0b0ce5d537a",
   "metadata": {},
   "outputs": [],
   "source": []
  }
 ],
 "metadata": {
  "kernelspec": {
   "display_name": "Python 3 (ipykernel)",
   "language": "python",
   "name": "python3"
  },
  "language_info": {
   "codemirror_mode": {
    "name": "ipython",
    "version": 3
   },
   "file_extension": ".py",
   "mimetype": "text/x-python",
   "name": "python",
   "nbconvert_exporter": "python",
   "pygments_lexer": "ipython3",
   "version": "3.12.4"
  }
 },
 "nbformat": 4,
 "nbformat_minor": 5
}
