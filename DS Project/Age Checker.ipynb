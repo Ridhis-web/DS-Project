{
 "cells": [
  {
   "cell_type": "code",
   "execution_count": 1,
   "id": "5552e409-36b9-4d1f-a916-6b52bbf2cb16",
   "metadata": {},
   "outputs": [
    {
     "name": "stdin",
     "output_type": "stream",
     "text": [
      "enter your age: 62\n"
     ]
    },
    {
     "name": "stdout",
     "output_type": "stream",
     "text": [
      "you are eligible to vote\n",
      "you are eligible for driving license\n",
      "you are senior citizen\n"
     ]
    }
   ],
   "source": [
    "#Age Checker\n",
    "age = int(input(\"enter your age:\"))\n",
    "if age>= 18:\n",
    "  print(\"you are eligible to vote\")\n",
    "else:\n",
    "  print(\"you are not eligible to vote\")\n",
    "if age>= 21:\n",
    "  print(\"you are eligible for driving license\")\n",
    "else:\n",
    "  print(\"you are not eligible for driving license\")\n",
    "if age>= 60:\n",
    "  print(\"you are senior citizen\")"
   ]
  },
  {
   "cell_type": "code",
   "execution_count": null,
   "id": "6f2cdd09-8e80-45ca-853a-ac387570e5f7",
   "metadata": {},
   "outputs": [],
   "source": []
  }
 ],
 "metadata": {
  "kernelspec": {
   "display_name": "Python 3 (ipykernel)",
   "language": "python",
   "name": "python3"
  },
  "language_info": {
   "codemirror_mode": {
    "name": "ipython",
    "version": 3
   },
   "file_extension": ".py",
   "mimetype": "text/x-python",
   "name": "python",
   "nbconvert_exporter": "python",
   "pygments_lexer": "ipython3",
   "version": "3.12.4"
  }
 },
 "nbformat": 4,
 "nbformat_minor": 5
}
