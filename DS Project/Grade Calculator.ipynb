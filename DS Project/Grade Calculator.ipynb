{
 "cells": [
  {
   "cell_type": "code",
   "execution_count": 1,
   "id": "d87df871-7fe8-4b1f-83fd-864685195259",
   "metadata": {},
   "outputs": [
    {
     "name": "stdin",
     "output_type": "stream",
     "text": [
      "enter your marks(out of 100): 89\n"
     ]
    },
    {
     "name": "stdout",
     "output_type": "stream",
     "text": [
      "grade = 'B'\n"
     ]
    }
   ],
   "source": [
    "#Grade Calculator using if-else\n",
    "marks =  int(input(\"enter your marks(out of 100):\"))\n",
    "if marks>= 90:\n",
    "  print(\"grade = 'A'\")\n",
    "elif marks >= 80:\n",
    " print(\"grade = 'B'\")\n",
    "elif marks >= 70:\n",
    " print(\"grade = 'C'\")\n",
    "elif marks >= 60:\n",
    " print(\"grade = 'D'\")\n",
    "elif marks >= 50:\n",
    " print(\"grade = 'E'\")\n",
    "else:\n",
    "  print(\"grade = 'F'\")"
   ]
  },
  {
   "cell_type": "code",
   "execution_count": null,
   "id": "87508f7b-8931-4609-a28d-5d414eb25f92",
   "metadata": {},
   "outputs": [],
   "source": []
  }
 ],
 "metadata": {
  "kernelspec": {
   "display_name": "Python 3 (ipykernel)",
   "language": "python",
   "name": "python3"
  },
  "language_info": {
   "codemirror_mode": {
    "name": "ipython",
    "version": 3
   },
   "file_extension": ".py",
   "mimetype": "text/x-python",
   "name": "python",
   "nbconvert_exporter": "python",
   "pygments_lexer": "ipython3",
   "version": "3.12.4"
  }
 },
 "nbformat": 4,
 "nbformat_minor": 5
}
