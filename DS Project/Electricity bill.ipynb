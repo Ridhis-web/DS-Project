{
 "cells": [
  {
   "cell_type": "code",
   "execution_count": 1,
   "id": "78f4bcbe-94ee-4eb6-a4c5-b29b6a469e32",
   "metadata": {},
   "outputs": [
    {
     "name": "stdin",
     "output_type": "stream",
     "text": [
      "enter electricity units: 85\n"
     ]
    },
    {
     "name": "stdout",
     "output_type": "stream",
     "text": [
      " total electricity bill: 425.0\n"
     ]
    }
   ],
   "source": [
    "# Electricity Bill cenerator\n",
    "units = float(input(\"enter electricity units:\"))\n",
    "if units <= 100:\n",
    "    bill = units * 5\n",
    "elif units <= 200:\n",
    "    bill = (100*5) + (units - 100) * 7\n",
    "else: \n",
    "    bill = (100*5) + (100*7) + (units-200)*10 \n",
    "print(f\" total electricity bill: {bill}\")"
   ]
  },
  {
   "cell_type": "code",
   "execution_count": null,
   "id": "e981b280-922d-4d80-b6b4-a9e399a68229",
   "metadata": {},
   "outputs": [],
   "source": []
  }
 ],
 "metadata": {
  "kernelspec": {
   "display_name": "Python 3 (ipykernel)",
   "language": "python",
   "name": "python3"
  },
  "language_info": {
   "codemirror_mode": {
    "name": "ipython",
    "version": 3
   },
   "file_extension": ".py",
   "mimetype": "text/x-python",
   "name": "python",
   "nbconvert_exporter": "python",
   "pygments_lexer": "ipython3",
   "version": "3.12.4"
  }
 },
 "nbformat": 4,
 "nbformat_minor": 5
}
