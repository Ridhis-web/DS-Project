{
 "cells": [
  {
   "cell_type": "code",
   "execution_count": 15,
   "id": "0a6c2e27-d2a9-4364-8375-dfa4d52c02d5",
   "metadata": {},
   "outputs": [
    {
     "name": "stdout",
     "output_type": "stream",
     "text": [
      "       Name      HEX               RGB\n",
      "0     White  #FFFFFF  rgb(100,100,100)\n",
      "1    Silver  #C0C0C0     rgb(75,75,75)\n",
      "2      Gray  #808080     rgb(50,50,50)\n",
      "3     Black  #000000        rgb(0,0,0)\n",
      "4       Red  #FF0000      rgb(100,0,0)\n",
      "5    Maroon  #800000       rgb(50,0,0)\n",
      "6    Yellow  #FFFF00    rgb(100,100,0)\n",
      "7     Olive  #808000      rgb(50,50,0)\n",
      "8      Lime  #00FF00      rgb(0,100,0)\n",
      "9     Green  #008000       rgb(0,50,0)\n",
      "10     Aqua  #00FFFF    rgb(0,100,100)\n",
      "11     Teal  #008080      rgb(0,50,50)\n",
      "12     Blue  #0000FF      rgb(0,0,100)\n",
      "13     Navy  #000080       rgb(0,0,50)\n",
      "14  Fuchsia  #FF00FF    rgb(100,0,100)\n",
      "15   Purple  #800080      rgb(50,0,50)\n",
      "--------------------------------------------------------\n",
      "     Name    HEX    RGB\n",
      "0   False  False  False\n",
      "1   False  False  False\n",
      "2   False  False  False\n",
      "3   False  False  False\n",
      "4   False  False  False\n",
      "5   False  False  False\n",
      "6   False  False  False\n",
      "7   False  False  False\n",
      "8   False  False  False\n",
      "9   False  False  False\n",
      "10  False  False  False\n",
      "11  False  False  False\n",
      "12  False  False  False\n",
      "13  False  False  False\n",
      "14  False  False  False\n",
      "15  False  False  False\n",
      "--------------------------------------------------------\n",
      "       Name      HEX               RGB\n",
      "0     White  #FFFFFF  rgb(100,100,100)\n",
      "1    Silver  #C0C0C0     rgb(75,75,75)\n",
      "2      Gray  #808080     rgb(50,50,50)\n",
      "3     Black  #000000        rgb(0,0,0)\n",
      "4       Red  #FF0000      rgb(100,0,0)\n",
      "5    Maroon  #800000       rgb(50,0,0)\n",
      "6    Yellow  #FFFF00    rgb(100,100,0)\n",
      "7     Olive  #808000      rgb(50,50,0)\n",
      "8      Lime  #00FF00      rgb(0,100,0)\n",
      "9     Green  #008000       rgb(0,50,0)\n",
      "10     Aqua  #00FFFF    rgb(0,100,100)\n",
      "11     Teal  #008080      rgb(0,50,50)\n",
      "12     Blue  #0000FF      rgb(0,0,100)\n",
      "13     Navy  #000080       rgb(0,0,50)\n",
      "14  Fuchsia  #FF00FF    rgb(100,0,100)\n",
      "15   Purple  #800080      rgb(50,0,50)\n",
      "--------------------------------------------------------\n",
      "       Name      HEX               RGB\n",
      "0     White  #FFFFFF  rgb(100,100,100)\n",
      "1    Silver  #C0C0C0     rgb(75,75,75)\n",
      "2      Gray  #808080     rgb(50,50,50)\n",
      "3     Black  #000000        rgb(0,0,0)\n",
      "4       Red  #FF0000      rgb(100,0,0)\n",
      "5    Maroon  #800000       rgb(50,0,0)\n",
      "6    Yellow  #FFFF00    rgb(100,100,0)\n",
      "7     Olive  #808000      rgb(50,50,0)\n",
      "8      Lime  #00FF00      rgb(0,100,0)\n",
      "9     Green  #008000       rgb(0,50,0)\n",
      "10     Aqua  #00FFFF    rgb(0,100,100)\n",
      "11     Teal  #008080      rgb(0,50,50)\n",
      "12     Blue  #0000FF      rgb(0,0,100)\n",
      "13     Navy  #000080       rgb(0,0,50)\n",
      "14  Fuchsia  #FF00FF    rgb(100,0,100)\n",
      "15   Purple  #800080      rgb(50,0,50)\n"
     ]
    }
   ],
   "source": [
    "import pandas as pd\n",
    "df=pd.read_csv(\"C:/Users/STUDENT/Downloads/color_srgb.csv\")\n",
    "print(df)\n",
    "print(\"--------------------------------------------------------\")\n",
    "print(df.isnull())\n",
    "print(\"--------------------------------------------------------\")\n",
    "print(df.fillna(0))\n",
    "print(\"--------------------------------------------------------\")\n",
    "print(df.dropna())"
   ]
  },
  {
   "cell_type": "code",
   "execution_count": null,
   "id": "5ad58e27-c1cc-483c-9c7f-6ae3f7d711c9",
   "metadata": {},
   "outputs": [],
   "source": []
  }
 ],
 "metadata": {
  "kernelspec": {
   "display_name": "Python 3 (ipykernel)",
   "language": "python",
   "name": "python3"
  },
  "language_info": {
   "codemirror_mode": {
    "name": "ipython",
    "version": 3
   },
   "file_extension": ".py",
   "mimetype": "text/x-python",
   "name": "python",
   "nbconvert_exporter": "python",
   "pygments_lexer": "ipython3",
   "version": "3.12.4"
  }
 },
 "nbformat": 4,
 "nbformat_minor": 5
}
