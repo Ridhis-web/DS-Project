{
 "cells": [
  {
   "cell_type": "code",
   "execution_count": null,
   "id": "68fba8d0-b852-4557-9d9d-28bace19a50e",
   "metadata": {},
   "outputs": [
    {
     "name": "stdout",
     "output_type": "stream",
     "text": [
      "CALCULATOR\n"
     ]
    },
    {
     "name": "stdout",
     "output_type": "stream",
     "text": [
      "enter value 1 52\n",
      "enter value 2 95\n",
      "enter the operator +\n"
     ]
    },
    {
     "name": "stdout",
     "output_type": "stream",
     "text": [
      "the sum of val 1 and val 2 is:  147\n"
     ]
    }
   ],
   "source": [
    "print ('CALCULATOR')\n",
    "val1 = int(input('enter value 1'))\n",
    "val2 = int(input( 'enter value 2'))\n",
    "operator = input ('enter the operator')\n",
    "if operator =='+':\n",
    "    print('the sum of val 1 and val 2 is: ' ,val1 + val2)\n",
    "elif operator == '-':\n",
    "    print('the difference between val 1 and val 2 is:' ,val1 - val2)\n",
    "elif operator == '*':\n",
    "    print('the multiplication of val 1 and val 2 is: ', val1 * val2)\n",
    "elif operator == '/':\n",
    "    print('the division of val 1 and val 2 is:' ,val1 / val2)\n",
    "elif operator == '%':\n",
    "    print('the mod of val 1 and val 2 is: ' ,val1% val2)\n",
    "else:\n",
    "    print ('wrong operator')"
   ]
  },
  {
   "cell_type": "code",
   "execution_count": null,
   "id": "89550479-2409-4e6d-a51a-e5858e96b1ce",
   "metadata": {},
   "outputs": [],
   "source": []
  }
 ],
 "metadata": {
  "kernelspec": {
   "display_name": "Python 3 (ipykernel)",
   "language": "python",
   "name": "python3"
  },
  "language_info": {
   "codemirror_mode": {
    "name": "ipython",
    "version": 3
   },
   "file_extension": ".py",
   "mimetype": "text/x-python",
   "name": "python",
   "nbconvert_exporter": "python",
   "pygments_lexer": "ipython3",
   "version": "3.12.4"
  }
 },
 "nbformat": 4,
 "nbformat_minor": 5
}
