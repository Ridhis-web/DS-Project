{
 "cells": [
  {
   "cell_type": "code",
   "execution_count": 75,
   "id": "4257a85d-159c-4655-a544-dc9a76741ea0",
   "metadata": {},
   "outputs": [
    {
     "name": "stdin",
     "output_type": "stream",
     "text": [
      "Enter first number:  45\n",
      "Enter second number:  62\n",
      "Enter third number:  85\n"
     ]
    },
    {
     "name": "stdout",
     "output_type": "stream",
     "text": [
      "The largest number is: 85.0\n"
     ]
    }
   ],
   "source": [
    "# Input three numbers from user\n",
    "num1 = float(input(\"Enter first number: \"))\n",
    "num2 = float(input(\"Enter second number: \"))\n",
    "num3 = float(input(\"Enter third number: \"))\n",
    "# Compare using if-elif-else\n",
    "if num1 >= num2 and num1 >= num3:\n",
    "    largest = num1\n",
    "elif num2 >= num1 and num2 >= num3:\n",
    "    largest = num2\n",
    "else:\n",
    "    largest = num3\n",
    "print(\"The largest number is:\", largest)"
   ]
  },
  {
   "cell_type": "code",
   "execution_count": 2,
   "id": "96af5a69-5dbe-42ae-9495-866279cbea6a",
   "metadata": {},
   "outputs": [
    {
     "name": "stdin",
     "output_type": "stream",
     "text": [
      "Enter a number:  85\n"
     ]
    },
    {
     "name": "stdout",
     "output_type": "stream",
     "text": [
      "85 is odd.\n"
     ]
    }
   ],
   "source": [
    "# Input a number from user\n",
    "num = int(input(\"Enter a number: \"))\n",
    "# Check if even or odd\n",
    "if num % 2 == 0:\n",
    "    print(num, \"is even.\")\n",
    "else:\n",
    "    print(num, \"is odd.\")"
   ]
  },
  {
   "cell_type": "code",
   "execution_count": 3,
   "id": "8255f280-948c-4db4-8c1b-7e4fb687c17f",
   "metadata": {},
   "outputs": [
    {
     "name": "stdin",
     "output_type": "stream",
     "text": [
      "Enter a string:  98\n"
     ]
    },
    {
     "name": "stdout",
     "output_type": "stream",
     "text": [
      "Reversed string: 89\n"
     ]
    }
   ],
   "source": [
    "# Input string from user\n",
    "user_string = input(\"Enter a string: \")\n",
    "# Reverse the string using slicing\n",
    "reversed_string = user_string[::-1]\n",
    "print(\"Reversed string:\", reversed_string)"
   ]
  },
  {
   "cell_type": "code",
   "execution_count": 4,
   "id": "43c7cdb2-5415-4dfc-b538-2cde8e2e1986",
   "metadata": {},
   "outputs": [
    {
     "name": "stdin",
     "output_type": "stream",
     "text": [
      "Enter a string:  ridhima\n"
     ]
    },
    {
     "name": "stdout",
     "output_type": "stream",
     "text": [
      "Number of vowels: 3\n"
     ]
    }
   ],
   "source": [
    "# Input string from user\n",
    "text = input(\"Enter a string: \")\n",
    "# Define vowels\n",
    "vowels = \"aeiouAEIOU\"\n",
    "count = 0\n",
    "# Loop through each character and count vowels\n",
    "for char in text:\n",
    "    if char in vowels:\n",
    "        count += 1\n",
    "print(\"Number of vowels:\", count)"
   ]
  },
  {
   "cell_type": "code",
   "execution_count": 5,
   "id": "1efcf5f4-9e36-4859-b4c2-3d32dca6fcdb",
   "metadata": {},
   "outputs": [
    {
     "name": "stdin",
     "output_type": "stream",
     "text": [
      "Enter first number:  21\n",
      "Enter second number:  85\n"
     ]
    },
    {
     "name": "stdout",
     "output_type": "stream",
     "text": [
      "Choose operation: +, -, *, /\n"
     ]
    },
    {
     "name": "stdin",
     "output_type": "stream",
     "text": [
      "Enter operation:  *\n"
     ]
    },
    {
     "name": "stdout",
     "output_type": "stream",
     "text": [
      "Result: 1785.0\n"
     ]
    }
   ],
   "source": [
    "# Input two numbers\n",
    "num1 = float(input(\"Enter first number: \"))\n",
    "num2 = float(input(\"Enter second number: \"))\n",
    "\n",
    "# Input operation\n",
    "print(\"Choose operation: +, -, *, /\")\n",
    "operation = input(\"Enter operation: \")\n",
    "\n",
    "# Perform calculation using if-else\n",
    "if operation == '+':\n",
    "    result = num1 + num2\n",
    "    print(\"Result:\", result)\n",
    "elif operation == '-':\n",
    "    result = num1 - num2\n",
    "    print(\"Result:\", result)\n",
    "elif operation == '*':\n",
    "    result = num1 * num2\n",
    "    print(\"Result:\", result)\n",
    "elif operation == '/':\n",
    "    if num2 != 0:\n",
    "        result = num1 / num2\n",
    "        print(\"Result:\", result)\n",
    "    else:\n",
    "        print(\"Cannot divide by zero!\")\n",
    "else:\n",
    "    print(\"Invalid operation!\")"
   ]
  },
  {
   "cell_type": "code",
   "execution_count": 6,
   "id": "43cb2d66-b9f5-494c-a7d4-96ddd78af50d",
   "metadata": {},
   "outputs": [
    {
     "name": "stdin",
     "output_type": "stream",
     "text": [
      "Enter a number:  56\n"
     ]
    },
    {
     "name": "stdout",
     "output_type": "stream",
     "text": [
      "56 is not a prime number.\n"
     ]
    }
   ],
   "source": [
    "# Input number from user\n",
    "num = int(input(\"Enter a number: \"))\n",
    "\n",
    "# Prime check\n",
    "if num <= 1:\n",
    "    print(num, \"is not a prime number.\")\n",
    "else:\n",
    "    is_prime = True\n",
    "    for i in range(2, int(num**0.5) + 1):  # Efficient check up to sqrt(num)\n",
    "        if num % i == 0:\n",
    "            is_prime = False\n",
    "            break\n",
    "    if is_prime:\n",
    "        print(num, \"is a prime number.\")\n",
    "    else:\n",
    "        print(num, \"is not a prime number.\")"
   ]
  },
  {
   "cell_type": "code",
   "execution_count": 7,
   "id": "65c676d8-5c99-460d-9c61-c92a5fcb9de1",
   "metadata": {},
   "outputs": [
    {
     "name": "stdin",
     "output_type": "stream",
     "text": [
      "Enter a number:  65\n"
     ]
    },
    {
     "name": "stdout",
     "output_type": "stream",
     "text": [
      "65 x 1 = 65\n",
      "65 x 2 = 130\n",
      "65 x 3 = 195\n",
      "65 x 4 = 260\n",
      "65 x 5 = 325\n",
      "65 x 6 = 390\n",
      "65 x 7 = 455\n",
      "65 x 8 = 520\n",
      "65 x 9 = 585\n",
      "65 x 10 = 650\n"
     ]
    }
   ],
   "source": [
    "# Input number from user\n",
    "num = int(input(\"Enter a number: \"))\n",
    "# Print multiplication table from 1 to 10\n",
    "i = 1\n",
    "while i <= 10:\n",
    "    print(num, \"x\", i, \"=\", num * i)\n",
    "    i += 1"
   ]
  },
  {
   "cell_type": "code",
   "execution_count": 8,
   "id": "a4179b86-cb4a-4ad0-8277-3cd7ac71fad6",
   "metadata": {},
   "outputs": [
    {
     "name": "stdin",
     "output_type": "stream",
     "text": [
      "Enter number of terms:  7\n"
     ]
    },
    {
     "name": "stdout",
     "output_type": "stream",
     "text": [
      "0 1 1 2 3 5 8 "
     ]
    }
   ],
   "source": [
    "# Input number of terms\n",
    "n = int(input(\"Enter number of terms: \"))\n",
    "# First two Fibonacci numbers\n",
    "a, b = 0, 1\n",
    "count = 0\n",
    "# Print Fibonacci series using while loop\n",
    "while count < n:\n",
    "    print(a, end=' ')\n",
    "    a, b = b, a + b\n",
    "    count += 1"
   ]
  },
  {
   "cell_type": "code",
   "execution_count": 9,
   "id": "0b66b9c1-54e1-434f-9ae3-a9555db663ba",
   "metadata": {},
   "outputs": [
    {
     "name": "stdin",
     "output_type": "stream",
     "text": [
      "Enter a number:  5\n"
     ]
    },
    {
     "name": "stdout",
     "output_type": "stream",
     "text": [
      "Factorial of 5 is 120\n"
     ]
    }
   ],
   "source": [
    "# Input a number\n",
    "num = int(input(\"Enter a number: \"))\n",
    "factorial = 1\n",
    "# Factorial of 0 or 1 is 1\n",
    "if num < 0:\n",
    "    print(\"Factorial does not exist for negative numbers.\")\n",
    "else:\n",
    "    for i in range(1, num + 1):\n",
    "        factorial *= i\n",
    "    print(\"Factorial of\", num, \"is\", factorial)"
   ]
  },
  {
   "cell_type": "code",
   "execution_count": 10,
   "id": "570570f9-8ce6-4af9-9134-d747f1d1e658",
   "metadata": {},
   "outputs": [
    {
     "name": "stdin",
     "output_type": "stream",
     "text": [
      "Enter a number:  4\n"
     ]
    },
    {
     "name": "stdout",
     "output_type": "stream",
     "text": [
      "4 is a palindrome.\n"
     ]
    }
   ],
   "source": [
    "# Input a number\n",
    "num = input(\"Enter a number: \")\n",
    "# Reverse the string and compare\n",
    "if num == num[::-1]:\n",
    "    print(num, \"is a palindrome.\")\n",
    "else:\n",
    "    print(num, \"is not a palindrome.\")"
   ]
  },
  {
   "cell_type": "code",
   "execution_count": 12,
   "id": "bac6ab19-8fd2-4a0b-b652-7f2fd1434206",
   "metadata": {},
   "outputs": [
    {
     "name": "stdin",
     "output_type": "stream",
     "text": [
      "Enter a number:  75\n"
     ]
    },
    {
     "name": "stdout",
     "output_type": "stream",
     "text": [
      "Sum of digits is: 12\n"
     ]
    }
   ],
   "source": [
    "# Input a number\n",
    "num = int(input(\"Enter a number: \"))\n",
    "sum_digits = 0\n",
    "# Add each digit using while loop\n",
    "while num > 0:\n",
    "    digit = num % 10\n",
    "    sum_digits += digit\n",
    "    num = num // 10\n",
    "print(\"Sum of digits is:\", sum_digits)"
   ]
  },
  {
   "cell_type": "code",
   "execution_count": 13,
   "id": "fed719fc-d572-4a7c-980a-02f03bbaa7be",
   "metadata": {},
   "outputs": [
    {
     "name": "stdin",
     "output_type": "stream",
     "text": [
      "Enter Celsius:  28\n"
     ]
    },
    {
     "name": "stdout",
     "output_type": "stream",
     "text": [
      "Fahrenheit: 82.4\n"
     ]
    }
   ],
   "source": [
    "# Input temperature in Celsius\n",
    "c = float(input(\"Enter Celsius: \"))\n",
    "# Convert to Fahrenheit\n",
    "f = (c * 1.8) + 32\n",
    "print(\"Fahrenheit:\", f)"
   ]
  },
  {
   "cell_type": "code",
   "execution_count": 14,
   "id": "fceff385-316c-40b6-9b81-0984d1545070",
   "metadata": {},
   "outputs": [
    {
     "name": "stdin",
     "output_type": "stream",
     "text": [
      "Enter first number:  52\n",
      "Enter second number:  65\n"
     ]
    },
    {
     "name": "stdout",
     "output_type": "stream",
     "text": [
      "Maximum is: 65.0\n"
     ]
    }
   ],
   "source": [
    "# Define the function\n",
    "def find_max(a, b):\n",
    "    if a > b:\n",
    "        return a\n",
    "    else:\n",
    "        return b\n",
    "# Take input and call the function\n",
    "x = float(input(\"Enter first number: \"))\n",
    "y = float(input(\"Enter second number: \"))\n",
    "print(\"Maximum is:\", find_max(x, y))"
   ]
  },
  {
   "cell_type": "code",
   "execution_count": 17,
   "id": "4ba0e8bc-ba2e-4b5f-a2af-70d456eaeb66",
   "metadata": {},
   "outputs": [
    {
     "name": "stdin",
     "output_type": "stream",
     "text": [
      "Enter numbers separated by space:  10 20 30 40\n"
     ]
    },
    {
     "name": "stdout",
     "output_type": "stream",
     "text": [
      "Average is: 25.0\n"
     ]
    }
   ],
   "source": [
    "# Input list of numbers from user\n",
    "numbers = input(\"Enter numbers separated by space: \")\n",
    "# Convert input string to list of floats\n",
    "num_list = [float(n) for n in numbers.split()]\n",
    "# Calculate average\n",
    "average = sum(num_list) / len(num_list)\n",
    "print(\"Average is:\", average)"
   ]
  },
  {
   "cell_type": "code",
   "execution_count": 18,
   "id": "a96a128d-5076-45b2-b8f1-fa96774267e9",
   "metadata": {},
   "outputs": [
    {
     "name": "stdin",
     "output_type": "stream",
     "text": [
      "Enter numbers separated by space:  50 60 \n"
     ]
    },
    {
     "name": "stdout",
     "output_type": "stream",
     "text": [
      "Second largest number is: 50\n"
     ]
    }
   ],
   "source": [
    "# Input numbers from user\n",
    "numbers = input(\"Enter numbers separated by space: \")\n",
    "# Convert to list of integers\n",
    "num_list = list(set(int(n) for n in numbers.split()))\n",
    "# Check if list has at least two unique numbers\n",
    "if len(num_list) < 2:\n",
    "    print(\"Need at least two different numbers.\")\n",
    "else:\n",
    "    num_list.sort(reverse=True)\n",
    "    print(\"Second largest number is:\", num_list[1])"
   ]
  },
  {
   "cell_type": "code",
   "execution_count": 19,
   "id": "b637ca76-92c4-4f7b-920f-c0c650100d18",
   "metadata": {},
   "outputs": [
    {
     "name": "stdin",
     "output_type": "stream",
     "text": [
      "Enter a sentence:  some evenings still smell like chilhood faint rain old books dreams that never grew up\n"
     ]
    },
    {
     "name": "stdout",
     "output_type": "stream",
     "text": [
      "Number of words: 15\n"
     ]
    }
   ],
   "source": [
    "# Input sentence from user\n",
    "sentence = input(\"Enter a sentence: \")\n",
    "# Split the sentence into words\n",
    "words = sentence.split()\n",
    "# Count the number of words\n",
    "print(\"Number of words:\", len(words))"
   ]
  },
  {
   "cell_type": "code",
   "execution_count": 20,
   "id": "f1b274c5-c0b3-4e4c-8815-7bd5504008b2",
   "metadata": {},
   "outputs": [
    {
     "name": "stdin",
     "output_type": "stream",
     "text": [
      "Enter elements separated by space:  12 84 21 61 16 16 12\n"
     ]
    },
    {
     "name": "stdout",
     "output_type": "stream",
     "text": [
      "List after removing duplicates: ['12', '84', '61', '16', '21']\n"
     ]
    }
   ],
   "source": [
    "# Input list elements from user\n",
    "elements = input(\"Enter elements separated by space: \")\n",
    "# Convert to list and remove duplicates using set\n",
    "unique_list = list(set(elements.split()))\n",
    "print(\"List after removing duplicates:\", unique_list)"
   ]
  },
  {
   "cell_type": "code",
   "execution_count": 21,
   "id": "6589d2b9-aa89-44aa-b7c6-0ed577ab7a47",
   "metadata": {},
   "outputs": [
    {
     "name": "stdin",
     "output_type": "stream",
     "text": [
      "Enter keys separated by space:  songname singer year\n",
      "Enter values separated by space:  you karanaujla 2021\n"
     ]
    },
    {
     "name": "stdout",
     "output_type": "stream",
     "text": [
      "Created dictionary: {'songname': 'you', 'singer': 'karanaujla', 'year': '2021'}\n"
     ]
    }
   ],
   "source": [
    "# Input keys and values\n",
    "keys = input(\"Enter keys separated by space: \").split()\n",
    "values = input(\"Enter values separated by space: \").split()\n",
    "# Create dictionary using zip()\n",
    "my_dict = dict(zip(keys, values))\n",
    "print(\"Created dictionary:\", my_dict)"
   ]
  },
  {
   "cell_type": "code",
   "execution_count": 22,
   "id": "aca69b5f-c584-4b04-8548-22fe4736de95",
   "metadata": {},
   "outputs": [
    {
     "name": "stdin",
     "output_type": "stream",
     "text": [
      "Enter numbers separated by space:  5 2 7 1 9 8\n"
     ]
    },
    {
     "name": "stdout",
     "output_type": "stream",
     "text": [
      "Sorted list: [1, 2, 5, 7, 8, 9]\n"
     ]
    }
   ],
   "source": [
    "# Input numbers from user\n",
    "nums = input(\"Enter numbers separated by space: \")\n",
    "# Convert input to list of integers\n",
    "num_list = [int(n) for n in nums.split()]\n",
    "# Sort using simple bubble sort\n",
    "for i in range(len(num_list)):\n",
    "    for j in range(i + 1, len(num_list)):\n",
    "        if num_list[i] > num_list[j]:\n",
    "            # Swap elements\n",
    "            num_list[i], num_list[j] = num_list[j], num_list[i]\n",
    "print(\"Sorted list:\", num_list)"
   ]
  },
  {
   "cell_type": "code",
   "execution_count": 23,
   "id": "eff960fc-ae2a-49e1-81b3-78907759ebd5",
   "metadata": {},
   "outputs": [
    {
     "name": "stdin",
     "output_type": "stream",
     "text": [
      "Enter a sentence:  Thoda dekh ke friend'an kar choose nakhro Ni mainu tere naal di ne jhalli pakhi hoyi ae Saanu patdi ae saadgi na patte surkhi Ni main suttan Mexico kude uthan turki\n"
     ]
    },
    {
     "name": "stdout",
     "output_type": "stream",
     "text": [
      "It's not a pangram.\n"
     ]
    }
   ],
   "source": [
    "import string\n",
    "# Function to check pangram\n",
    "def is_pangram(sentence):\n",
    "    alphabet = set(string.ascii_lowercase)  # all lowercase letters\n",
    "    return set(sentence.lower()) >= alphabet\n",
    "# Input from user\n",
    "text = input(\"Enter a sentence: \")\n",
    "# Check and print result\n",
    "if is_pangram(text):\n",
    "    print(\"It's a pangram!\")\n",
    "else:\n",
    "    print(\"It's not a pangram.\")"
   ]
  },
  {
   "cell_type": "code",
   "execution_count": 24,
   "id": "52759d68-f6eb-4d52-987a-9ff1df13c932",
   "metadata": {},
   "outputs": [
    {
     "name": "stdin",
     "output_type": "stream",
     "text": [
      "Enter something:  2Am\n"
     ]
    },
    {
     "name": "stdout",
     "output_type": "stream",
     "text": [
      "It's not a number.\n"
     ]
    }
   ],
   "source": [
    "# Function to check if input is a number\n",
    "def is_number(value):\n",
    "    try:\n",
    "        float(value)  # Try converting to float\n",
    "        return True\n",
    "    except ValueError:\n",
    "        return False\n",
    "# Input from user\n",
    "user_input = input(\"Enter something: \")\n",
    "# Check and print result\n",
    "if is_number(user_input):\n",
    "    print(\"It's a number.\")\n",
    "else:\n",
    "    print(\"It's not a number.\")"
   ]
  },
  {
   "cell_type": "code",
   "execution_count": 25,
   "id": "60826fcc-3e51-4372-9313-8ba04fb6489e",
   "metadata": {},
   "outputs": [
    {
     "name": "stdin",
     "output_type": "stream",
     "text": [
      "Enter first string:  at peace\n",
      "Enter second string:  48 Rhymes\n"
     ]
    },
    {
     "name": "stdout",
     "output_type": "stream",
     "text": [
      "The strings are not anagrams.\n"
     ]
    }
   ],
   "source": [
    "# Function to check if two strings are anagrams\n",
    "def is_anagram(str1, str2):\n",
    "    return sorted(str1.lower()) == sorted(str2.lower())\n",
    "# Input from user\n",
    "s1 = input(\"Enter first string: \")\n",
    "s2 = input(\"Enter second string: \")\n",
    "# Check and print result\n",
    "if is_anagram(s1, s2):\n",
    "    print(\"The strings are anagrams.\")\n",
    "else:\n",
    "    print(\"The strings are not anagrams.\")"
   ]
  },
  {
   "cell_type": "code",
   "execution_count": 26,
   "id": "e0bb51aa-851b-4c9b-a0ad-b707b15ecab3",
   "metadata": {},
   "outputs": [
    {
     "name": "stdin",
     "output_type": "stream",
     "text": [
      "Enter a number:  25\n"
     ]
    },
    {
     "name": "stdout",
     "output_type": "stream",
     "text": [
      "Binary: 0b11001\n",
      "Octal: 0o31\n",
      "Hexadecimal: 0x19\n"
     ]
    }
   ],
   "source": [
    "# Input number from user\n",
    "num = int(input(\"Enter a number: \"))\n",
    "# Convert and print in different number systems\n",
    "print(\"Binary:\", bin(num))\n",
    "print(\"Octal:\", oct(num))\n",
    "print(\"Hexadecimal:\", hex(num))"
   ]
  },
  {
   "cell_type": "code",
   "execution_count": 27,
   "id": "43dd8bad-e82f-4017-9163-6b8a6301c36d",
   "metadata": {},
   "outputs": [
    {
     "name": "stdin",
     "output_type": "stream",
     "text": [
      "Enter numbers separated by space:  65 58 45 21 85\n"
     ]
    },
    {
     "name": "stdout",
     "output_type": "stream",
     "text": [
      "Numbers greater than 50:\n",
      "65\n",
      "58\n",
      "85\n"
     ]
    }
   ],
   "source": [
    "# Input list elements from user\n",
    "nums = input(\"Enter numbers separated by space: \")\n",
    "# Convert to list of integers\n",
    "num_list = [int(n) for n in nums.split()]\n",
    "# Print numbers greater than 50\n",
    "print(\"Numbers greater than 50:\")\n",
    "for num in num_list:\n",
    "    if num > 50:\n",
    "        print(num)"
   ]
  },
  {
   "cell_type": "code",
   "execution_count": 28,
   "id": "dca34b31-d161-4048-be6a-20563a310314",
   "metadata": {},
   "outputs": [
    {
     "name": "stdin",
     "output_type": "stream",
     "text": [
      "Enter a string:  Decision aa, reason aa tere pichhe aun da Na time lagge saun da, na nahaun da, na gaun da Ni nakhre handaun da, ni chaah ae viahun da Ni baanhi chooda paun da, na fer kade laun da\n"
     ]
    },
    {
     "name": "stdout",
     "output_type": "stream",
     "text": [
      "Uppercase letters: 4\n",
      "Lowercase letters: 133\n"
     ]
    }
   ],
   "source": [
    "# Function to count uppercase and lowercase letters\n",
    "def count_case(text):\n",
    "    upper = 0\n",
    "    lower = 0\n",
    "    for char in text:\n",
    "        if char.isupper():\n",
    "            upper += 1\n",
    "        elif char.islower():\n",
    "            lower += 1\n",
    "    return upper, lower\n",
    "# Input string from user\n",
    "input_str = input(\"Enter a string: \")\n",
    "# Call the function and print result\n",
    "uppercase_count, lowercase_count = count_case(input_str)\n",
    "print(\"Uppercase letters:\", uppercase_count)\n",
    "print(\"Lowercase letters:\", lowercase_count)"
   ]
  },
  {
   "cell_type": "code",
   "execution_count": 29,
   "id": "c4b91fed-afc6-48d4-a944-9cf812d43f3a",
   "metadata": {},
   "outputs": [
    {
     "name": "stdin",
     "output_type": "stream",
     "text": [
      "Enter numbers separated by space:  2 3 4\n"
     ]
    },
    {
     "name": "stdout",
     "output_type": "stream",
     "text": [
      "Squared list: [4, 9, 16]\n"
     ]
    }
   ],
   "source": [
    "# Input list of numbers\n",
    "nums = input(\"Enter numbers separated by space: \")\n",
    "# Convert to list of integers\n",
    "num_list = [int(n) for n in nums.split()]\n",
    "# Use lambda with map to square each element\n",
    "squared_list = list(map(lambda x: x**2, num_list))\n",
    "print(\"Squared list:\", squared_list)"
   ]
  },
  {
   "cell_type": "code",
   "execution_count": 30,
   "id": "4e6a6971-cf87-4f1f-912c-6993ed31eac5",
   "metadata": {},
   "outputs": [
    {
     "name": "stdout",
     "output_type": "stream",
     "text": [
      "Prime numbers from 1 to 100:\n",
      "[2, 3, 5, 7, 11, 13, 17, 19, 23, 29, 31, 37, 41, 43, 47, 53, 59, 61, 67, 71, 73, 79, 83, 89, 97]\n"
     ]
    }
   ],
   "source": [
    "# Function to check prime\n",
    "def is_prime(n):\n",
    "    if n < 2:\n",
    "        return False\n",
    "    for i in range(2, int(n**0.5) + 1):\n",
    "        if n % i == 0:\n",
    "            return False\n",
    "    return True\n",
    "# Function to get list of prime numbers from 1 to 100\n",
    "def prime_list():\n",
    "    return [i for i in range(1, 101) if is_prime(i)]\n",
    "# Call and print the result\n",
    "print(\"Prime numbers from 1 to 100:\")\n",
    "print(prime_list())"
   ]
  },
  {
   "cell_type": "code",
   "execution_count": 31,
   "id": "421df39e-32f5-4656-acb7-d96d38cb6d51",
   "metadata": {},
   "outputs": [
    {
     "name": "stdin",
     "output_type": "stream",
     "text": [
      "Enter first number:  52\n",
      "Enter second number:  65\n",
      "Choose operation (+, -, *, /):  /\n"
     ]
    },
    {
     "name": "stdout",
     "output_type": "stream",
     "text": [
      "Result: 0.8\n"
     ]
    }
   ],
   "source": [
    "# Define functions for operations\n",
    "def add(a, b):\n",
    "    return a + b\n",
    "\n",
    "def subtract(a, b):\n",
    "    return a - b\n",
    "\n",
    "def multiply(a, b):\n",
    "    return a * b\n",
    "\n",
    "def divide(a, b):\n",
    "    if b != 0:\n",
    "        return a / b\n",
    "    else:\n",
    "        return \"Cannot divide by zero\"\n",
    "# Input from user\n",
    "num1 = float(input(\"Enter first number: \"))\n",
    "num2 = float(input(\"Enter second number: \"))\n",
    "op = input(\"Choose operation (+, -, *, /): \")\n",
    "# Perform calculation based on user input\n",
    "if op == '+':\n",
    "    print(\"Result:\", add(num1, num2))\n",
    "elif op == '-':\n",
    "    print(\"Result:\", subtract(num1, num2))\n",
    "elif op == '*':\n",
    "    print(\"Result:\", multiply(num1, num2))\n",
    "elif op == '/':\n",
    "    print(\"Result:\", divide(num1, num2))\n",
    "else:\n",
    "    print(\"Invalid operation\")"
   ]
  },
  {
   "cell_type": "code",
   "execution_count": 33,
   "id": "ef6f6fc2-3a95-4b05-a181-82344560b140",
   "metadata": {},
   "outputs": [
    {
     "name": "stdin",
     "output_type": "stream",
     "text": [
      "Enter a number:  9\n"
     ]
    },
    {
     "name": "stdout",
     "output_type": "stream",
     "text": [
      "Factorial of 9 is 362880\n"
     ]
    }
   ],
   "source": [
    "# Recursive function to find factorial\n",
    "def factorial(n):\n",
    "    if n == 0 or n == 1:\n",
    "        return 1\n",
    "    else:\n",
    "        return n * factorial(n - 1)\n",
    "# Input from user\n",
    "num = int(input(\"Enter a number: \"))\n",
    "# Check and print result\n",
    "if num < 0:\n",
    "    print(\"Factorial does not exist for negative numbers.\")\n",
    "else:\n",
    "    print(\"Factorial of\", num, \"is\", factorial(num))"
   ]
  },
  {
   "cell_type": "code",
   "execution_count": 34,
   "id": "288c72d0-86a8-4148-957c-b83dcabdff61",
   "metadata": {},
   "outputs": [
    {
     "name": "stdout",
     "output_type": "stream",
     "text": [
      "Student 1 Info:\n",
      "Name: Alice\n",
      "Roll Number: 101\n",
      "Course: Python\n",
      "\n",
      "Student 2 Info:\n",
      "Name: Bob\n",
      "Roll Number: 102\n",
      "Course: Java\n"
     ]
    }
   ],
   "source": [
    "# Define the Student class\n",
    "class Student:\n",
    "    def __init__(self, name, roll, course):\n",
    "        self.name = name\n",
    "        self.roll = roll\n",
    "        self.course = course\n",
    "    def display_info(self):\n",
    "        print(\"Name:\", self.name)\n",
    "        print(\"Roll Number:\", self.roll)\n",
    "        print(\"Course:\", self.course)\n",
    "# Create student objects\n",
    "student1 = Student(\"Alice\", 101, \"Python\")\n",
    "student2 = Student(\"Bob\", 102, \"Java\")\n",
    "# Display student information\n",
    "print(\"Student 1 Info:\")\n",
    "student1.display_info()\n",
    "print(\"\\nStudent 2 Info:\")\n",
    "student2.display_info()"
   ]
  },
  {
   "cell_type": "code",
   "execution_count": 51,
   "id": "c6f897ba-ef8c-4797-8cde-0a464307c18d",
   "metadata": {},
   "outputs": [
    {
     "name": "stdout",
     "output_type": "stream",
     "text": [
      "Total lines: 37\n",
      "Total words: 200\n"
     ]
    }
   ],
   "source": [
    "filename = \"sample.txt\"\n",
    "try:\n",
    "    with open(filename, 'r') as file:\n",
    "        lines = file.readlines()\n",
    "        line_count = len(lines)\n",
    "        word_count = sum(len(line.split()) for line in lines)\n",
    "        print(\"Total lines:\", line_count)\n",
    "        print(\"Total words:\", word_count)\n",
    "except FileNotFoundError:\n",
    "    print(\"File not found. Please check the filename.\")"
   ]
  },
  {
   "cell_type": "code",
   "execution_count": 52,
   "id": "7da6806e-3f7d-4b2c-8251-b4bea9990439",
   "metadata": {},
   "outputs": [
    {
     "name": "stdout",
     "output_type": "stream",
     "text": [
      "Start task...\n",
      "Task done!\n",
      "Time taken: 1.0005548000335693 seconds\n"
     ]
    }
   ],
   "source": [
    "import time\n",
    "# Simple decorator\n",
    "def timer(func):\n",
    "    def wrapper():\n",
    "        start = time.time()\n",
    "        func()\n",
    "        end = time.time()\n",
    "        print(\"Time taken:\", end - start, \"seconds\")\n",
    "    return wrapper\n",
    "@timer\n",
    "def test():\n",
    "    print(\"Start task...\")\n",
    "    time.sleep(1)  # Simulating a delay\n",
    "    print(\"Task done!\")\n",
    "test()"
   ]
  },
  {
   "cell_type": "code",
   "execution_count": 53,
   "id": "dcff31cf-52da-42c3-a72a-2c20774e4b64",
   "metadata": {},
   "outputs": [
    {
     "name": "stdout",
     "output_type": "stream",
     "text": [
      "500 deposited. New balance: 1500\n",
      "300 withdrawn. New balance: 1200\n",
      "Insufficient balance!\n"
     ]
    }
   ],
   "source": [
    "# Define BankAccount class\n",
    "class BankAccount:\n",
    "    def __init__(self, name, balance=0):\n",
    "        self.name = name\n",
    "        self.balance = balance\n",
    "    def deposit(self, amount):\n",
    "        self.balance += amount\n",
    "        print(f\"{amount} deposited. New balance: {self.balance}\")\n",
    "    def withdraw(self, amount):\n",
    "        if amount <= self.balance:\n",
    "            self.balance -= amount\n",
    "            print(f\"{amount} withdrawn. New balance: {self.balance}\")\n",
    "        else:\n",
    "            print(\"Insufficient balance!\")\n",
    "# Create an account and perform transactions\n",
    "account = BankAccount(\"Riya\", 1000)\n",
    "account.deposit(500)\n",
    "account.withdraw(300)\n",
    "account.withdraw(1500)"
   ]
  },
  {
   "cell_type": "code",
   "execution_count": 54,
   "id": "71cebef4-f654-4abd-8c03-f0ab240136cb",
   "metadata": {},
   "outputs": [
    {
     "name": "stdin",
     "output_type": "stream",
     "text": [
      "Enter the value of n:  20\n"
     ]
    },
    {
     "name": "stdout",
     "output_type": "stream",
     "text": [
      "Even numbers from 1 to 20 :\n",
      "2 4 6 8 10 12 14 16 18 20 "
     ]
    }
   ],
   "source": [
    "# Generator function to yield even numbers\n",
    "def even_generator(n):\n",
    "    for i in range(2, n + 1, 2):\n",
    "        yield i\n",
    "# Input from user\n",
    "limit = int(input(\"Enter the value of n: \"))\n",
    "# Use generator and print even numbers\n",
    "print(\"Even numbers from 1 to\", limit, \":\")\n",
    "for num in even_generator(limit):\n",
    "    print(num, end=' ')"
   ]
  },
  {
   "cell_type": "code",
   "execution_count": 55,
   "id": "4ad5a400-f2c5-448f-a73e-728eccd85ac3",
   "metadata": {},
   "outputs": [
    {
     "name": "stdout",
     "output_type": "stream",
     "text": [
      "Positional arguments (args):\n",
      "Python\n",
      "3.9\n",
      "True\n",
      "\n",
      "Keyword arguments (kwargs):\n",
      "name = Riya\n",
      "age = 20\n",
      "course = Data Science\n"
     ]
    }
   ],
   "source": [
    "# Function using *args and **kwargs\n",
    "def show_details(*args, **kwargs):\n",
    "    print(\"Positional arguments (args):\")\n",
    "    for arg in args:\n",
    "        print(arg)\n",
    "    print(\"\\nKeyword arguments (kwargs):\")\n",
    "    for key, value in kwargs.items():\n",
    "        print(f\"{key} = {value}\")\n",
    "# Call the function with different types of arguments\n",
    "show_details(\"Python\", 3.9, True, name=\"Riya\", age=20, course=\"Data Science\")"
   ]
  },
  {
   "cell_type": "code",
   "execution_count": 56,
   "id": "97e5072f-abe9-4472-b90e-0af237f75a02",
   "metadata": {},
   "outputs": [
    {
     "name": "stdout",
     "output_type": "stream",
     "text": [
      "Squares of even numbers from 1 to 20:\n",
      "[4, 16, 36, 64, 100, 144, 196, 256, 324, 400]\n"
     ]
    }
   ],
   "source": [
    "# List comprehension to generate squares of even numbers from 1 to 20\n",
    "squares = [x**2 for x in range(1, 21) if x % 2 == 0]\n",
    "print(\"Squares of even numbers from 1 to 20:\")\n",
    "print(squares)"
   ]
  },
  {
   "cell_type": "code",
   "execution_count": 57,
   "id": "d90bd34e-40b7-41f8-a0c7-228c4fedd4c2",
   "metadata": {},
   "outputs": [
    {
     "name": "stdin",
     "output_type": "stream",
     "text": [
      "Enter elements separated by space:  apple cherry apple blueberry banana\n"
     ]
    },
    {
     "name": "stdout",
     "output_type": "stream",
     "text": [
      "Unique elements: ['apple', 'banana', 'cherry', 'blueberry']\n"
     ]
    }
   ],
   "source": [
    "# Function to return unique elements from a list\n",
    "def get_unique_elements(lst):\n",
    "    return list(set(lst))\n",
    "# Input from user\n",
    "user_input = input(\"Enter elements separated by space: \")\n",
    "elements = user_input.split()\n",
    "# Call function and print result\n",
    "unique = get_unique_elements(elements)\n",
    "print(\"Unique elements:\", unique)"
   ]
  },
  {
   "cell_type": "code",
   "execution_count": 58,
   "id": "85d70edb-f5ed-4b07-980d-fd627e0d423a",
   "metadata": {},
   "outputs": [
    {
     "name": "stdout",
     "output_type": "stream",
     "text": [
      "Merged Dictionary: {'a': 1, 'b': 3, 'c': 4}\n"
     ]
    }
   ],
   "source": [
    "# Define two dictionaries\n",
    "dict1 = {'a': 1, 'b': 2}\n",
    "dict2 = {'b': 3, 'c': 4}\n",
    "# Merge dictionaries (dict2 values will override dict1 if keys overlap)\n",
    "merged_dict = {**dict1, **dict2}\n",
    "print(\"Merged Dictionary:\", merged_dict)"
   ]
  },
  {
   "cell_type": "code",
   "execution_count": 59,
   "id": "af244a18-725a-40a6-a484-c61adad56ab5",
   "metadata": {},
   "outputs": [
    {
     "name": "stdout",
     "output_type": "stream",
     "text": [
      "The animal makes a sound.\n",
      "The dog barks.\n"
     ]
    }
   ],
   "source": [
    "# Parent class\n",
    "class Animal:\n",
    "    def speak(self):\n",
    "        print(\"The animal makes a sound.\")\n",
    "# Child class inheriting from Animal\n",
    "class Dog(Animal):\n",
    "    def speak(self):  # Method overriding\n",
    "        print(\"The dog barks.\")\n",
    "# Create objects\n",
    "a = Animal()\n",
    "d = Dog()\n",
    "# Call the method\n",
    "a.speak()  # Output from parent class\n",
    "d.speak()  # Overridden method in child class"
   ]
  },
  {
   "cell_type": "code",
   "execution_count": 60,
   "id": "9fca300a-a8ea-48a4-b618-c4edcf1a29dd",
   "metadata": {},
   "outputs": [
    {
     "name": "stdin",
     "output_type": "stream",
     "text": [
      "Enter elements of first list (space-separated):  1 2 3 4 5\n",
      "Enter elements of second list (space-separated):  4 5 6 7 8\n"
     ]
    },
    {
     "name": "stdout",
     "output_type": "stream",
     "text": [
      "Common elements: ['4', '5']\n"
     ]
    }
   ],
   "source": [
    "# Function to find common elements\n",
    "def find_common(list1, list2):\n",
    "    return list(set(list1) & set(list2))\n",
    "# Input from user\n",
    "l1 = input(\"Enter elements of first list (space-separated): \").split()\n",
    "l2 = input(\"Enter elements of second list (space-separated): \").split()\n",
    "# Call the function and print result\n",
    "common = find_common(l1, l2)\n",
    "print(\"Common elements:\", common)"
   ]
  },
  {
   "cell_type": "code",
   "execution_count": 61,
   "id": "e87a3b21-04f0-4d55-8280-ccc7ff643cb4",
   "metadata": {},
   "outputs": [
    {
     "name": "stdin",
     "output_type": "stream",
     "text": [
      "Enter numerator:  12\n",
      "Enter denominator:  10\n"
     ]
    },
    {
     "name": "stdout",
     "output_type": "stream",
     "text": [
      "Result: 1.2\n",
      "Execution completed (finally block).\n"
     ]
    }
   ],
   "source": [
    "try:\n",
    "    # User input\n",
    "    num1 = int(input(\"Enter numerator: \"))\n",
    "    num2 = int(input(\"Enter denominator: \"))\n",
    "    # Risky operation\n",
    "    result = num1 / num2\n",
    "    print(\"Result:\", result)\n",
    "except ZeroDivisionError:\n",
    "    print(\"Error: Cannot divide by zero!\")\n",
    "except ValueError:\n",
    "    print(\"Error: Please enter valid integers only.\")\n",
    "finally:\n",
    "    print(\"Execution completed (finally block).\")"
   ]
  },
  {
   "cell_type": "code",
   "execution_count": 62,
   "id": "b05a7484-c7c5-40da-9401-fcc98f02f825",
   "metadata": {},
   "outputs": [
    {
     "name": "stdout",
     "output_type": "stream",
     "text": [
      "Name: Riya\n",
      "Age: 21\n",
      "Course: Python\n"
     ]
    }
   ],
   "source": [
    "import json\n",
    "# Sample JSON string\n",
    "json_data = '{\"name\": \"Riya\", \"age\": 21, \"course\": \"Python\"}'\n",
    "# Parse JSON string into a Python dictionary\n",
    "data = json.loads(json_data)\n",
    "# Display parsed data\n",
    "print(\"Name:\", data[\"name\"])\n",
    "print(\"Age:\", data[\"age\"])\n",
    "print(\"Course:\", data[\"course\"])"
   ]
  },
  {
   "cell_type": "code",
   "execution_count": 63,
   "id": "d4e00c4b-9f5c-4147-a8e2-c6fc2989ebcc",
   "metadata": {},
   "outputs": [
    {
     "name": "stdout",
     "output_type": "stream",
     "text": [
      "Public - Name: Riya\n",
      "Protected - Age: 20\n",
      "Name: Riya\n",
      "Age: 20\n",
      "Marks: 95\n"
     ]
    }
   ],
   "source": [
    "class Student:\n",
    "    def __init__(self, name, age, marks):\n",
    "        self.name = name            \n",
    "        self._age = age             \n",
    "        self.__marks = marks        \n",
    "    def show_details(self):\n",
    "        print(\"Name:\", self.name)\n",
    "        print(\"Age:\", self._age)\n",
    "        print(\"Marks:\", self.__marks)\n",
    "# Create object\n",
    "s = Student(\"Riya\", 20, 95)\n",
    "# Accessing public member\n",
    "print(\"Public - Name:\", s.name)\n",
    "# Accessing protected member \n",
    "print(\"Protected - Age:\", s._age)\n",
    "# Accessing private member \n",
    "s.show_details()"
   ]
  },
  {
   "cell_type": "code",
   "execution_count": 64,
   "id": "c5949ee0-8442-4291-b944-cd4c3f0baa64",
   "metadata": {},
   "outputs": [
    {
     "name": "stdin",
     "output_type": "stream",
     "text": [
      "Enter an email address:  mathurridhima30@gmail.com\n"
     ]
    },
    {
     "name": "stdout",
     "output_type": "stream",
     "text": [
      "Valid email address.\n"
     ]
    }
   ],
   "source": [
    "import re\n",
    "# Function to validate email using regex\n",
    "def is_valid_email(email):\n",
    "    pattern = r'^[\\w\\.-]+@[\\w\\.-]+\\.\\w+$'\n",
    "    return re.match(pattern, email) is not None\n",
    "# Input from user\n",
    "email = input(\"Enter an email address: \")\n",
    "# Check and print result\n",
    "if is_valid_email(email):\n",
    "    print(\"Valid email address.\")\n",
    "else:\n",
    "    print(\"Invalid email address.\")"
   ]
  },
  {
   "cell_type": "code",
   "execution_count": 66,
   "id": "368549c2-0794-492b-9dd3-2c73af8abef6",
   "metadata": {},
   "outputs": [
    {
     "name": "stdin",
     "output_type": "stream",
     "text": [
      "Enter CSV file name:  data.csv\n"
     ]
    },
    {
     "name": "stdout",
     "output_type": "stream",
     "text": [
      "CSV data as list of dictionaries:\n",
      "{'name': 'Ridhs', 'age': '21', 'course': 'Python'}\n",
      "{'name': 'Vanshika', 'age': '22', 'course': 'Java'}\n",
      "{'name': 'Anshika', 'age': '20', 'course': 'Data Science'}\n"
     ]
    }
   ],
   "source": [
    "import csv\n",
    "# Input file name\n",
    "filename = input(\"Enter CSV file name: \")\n",
    "try:\n",
    "    with open(filename, mode='r') as file:\n",
    "        reader = csv.DictReader(file)\n",
    "        data = list(reader)\n",
    "        print(\"CSV data as list of dictionaries:\")\n",
    "        for row in data:\n",
    "            print(row)\n",
    "except FileNotFoundError:\n",
    "    print(\"File not found. Please check the filename.\")"
   ]
  },
  {
   "cell_type": "code",
   "execution_count": 69,
   "id": "8a55959e-4853-4d7f-87cf-6f302443c823",
   "metadata": {},
   "outputs": [
    {
     "name": "stdin",
     "output_type": "stream",
     "text": [
      "Enter username:  anshika\n",
      "Enter password:  python789\n"
     ]
    },
    {
     "name": "stdout",
     "output_type": "stream",
     "text": [
      "Login successful! Welcome, Anshika\n"
     ]
    }
   ],
   "source": [
    "# Predefined user data (all lowercase keys)\n",
    "users = {\n",
    "    \"ridhs\": \"pass123\",\n",
    "    \"vanshika\": \"hello456\",\n",
    "    \"anshika\": \"python789\"\n",
    "}\n",
    "# Get login input from user\n",
    "username = input(\"Enter username: \").strip().lower()\n",
    "password = input(\"Enter password: \").strip()\n",
    "# Login check\n",
    "if username in users and users[username] == password:\n",
    "    print(\"Login successful! Welcome,\", username.capitalize())\n",
    "else:\n",
    "    print(\"Invalid username or password.\")"
   ]
  },
  {
   "cell_type": "code",
   "execution_count": 70,
   "id": "fe179e6b-870c-4cf7-8d8f-533f007d8c20",
   "metadata": {},
   "outputs": [
    {
     "name": "stdout",
     "output_type": "stream",
     "text": [
      "Flattened list: [1, 2, 3, 4, 5, 6, 7, 8]\n"
     ]
    }
   ],
   "source": [
    "# Recursive function to flatten a nested list\n",
    "def flatten_list(nested):\n",
    "    flat = []\n",
    "    for item in nested:\n",
    "        if isinstance(item, list):\n",
    "            flat.extend(flatten_list(item))  # Recursive call\n",
    "        else:\n",
    "            flat.append(item)\n",
    "    return flat\n",
    "# Example nested list\n",
    "nested_list = [1, [2, [3, 4], 5], [6, 7], 8]\n",
    "# Flatten and display\n",
    "flat_list = flatten_list(nested_list)\n",
    "print(\"Flattened list:\", flat_list)"
   ]
  },
  {
   "cell_type": "code",
   "execution_count": 71,
   "id": "a26f7da3-8dc8-4c9a-a434-10e74b30b16c",
   "metadata": {},
   "outputs": [
    {
     "name": "stdout",
     "output_type": "stream",
     "text": [
      "Squares: [1, 4, 9, 16, 25, 36]\n",
      "Even numbers: [2, 4, 6]\n",
      "Product of all numbers: 720\n"
     ]
    }
   ],
   "source": [
    "from functools import reduce\n",
    "# Original list\n",
    "numbers = [1, 2, 3, 4, 5, 6]\n",
    "# map(): Square each number\n",
    "squares = list(map(lambda x: x**2, numbers))\n",
    "print(\"Squares:\", squares)\n",
    "# filter(): Keep only even numbers\n",
    "evens = list(filter(lambda x: x % 2 == 0, numbers))\n",
    "print(\"Even numbers:\", evens)\n",
    "# reduce(): Multiply all numbers together\n",
    "product = reduce(lambda x, y: x * y, numbers)\n",
    "print(\"Product of all numbers:\", product)"
   ]
  },
  {
   "cell_type": "code",
   "execution_count": 72,
   "id": "6da6bb47-ea91-47e4-ab70-98862995baf8",
   "metadata": {},
   "outputs": [
    {
     "name": "stdout",
     "output_type": "stream",
     "text": [
      "Welcome to Simple CLI Calculator\n"
     ]
    },
    {
     "name": "stdin",
     "output_type": "stream",
     "text": [
      "Enter first number:  10\n",
      "Enter second number:  5\n"
     ]
    },
    {
     "name": "stdout",
     "output_type": "stream",
     "text": [
      "Choose operation: +  -  *  /\n"
     ]
    },
    {
     "name": "stdin",
     "output_type": "stream",
     "text": [
      "Enter operator:  *\n"
     ]
    },
    {
     "name": "stdout",
     "output_type": "stream",
     "text": [
      "Result: 50.0\n"
     ]
    }
   ],
   "source": [
    "def calculator():\n",
    "    print(\"Welcome to Simple CLI Calculator\")   \n",
    "    # Take inputs\n",
    "    num1 = float(input(\"Enter first number: \"))\n",
    "    num2 = float(input(\"Enter second number: \")) \n",
    "    print(\"Choose operation: +  -  *  /\")\n",
    "    op = input(\"Enter operator: \")\n",
    "    # Perform operation\n",
    "    if op == \"+\":\n",
    "        result = num1 + num2\n",
    "    elif op == \"-\":\n",
    "        result = num1 - num2\n",
    "    elif op == \"*\":\n",
    "        result = num1 * num2\n",
    "    elif op == \"/\":\n",
    "        if num2 != 0:\n",
    "            result = num1 / num2\n",
    "        else:\n",
    "            print(\"Cannot divide by zero.\")\n",
    "            return\n",
    "    else:\n",
    "        print(\"Invalid operator.\")\n",
    "        return\n",
    "\n",
    "    print(\"Result:\", result)\n",
    "# Run the calculator\n",
    "calculator()"
   ]
  },
  {
   "cell_type": "code",
   "execution_count": 74,
   "id": "f8b3a05e-1f82-4232-ab55-1755beebbfef",
   "metadata": {},
   "outputs": [
    {
     "name": "stdout",
     "output_type": "stream",
     "text": [
      "📝 Welcome to the Mini Quiz!\n",
      "\n"
     ]
    },
    {
     "name": "stdin",
     "output_type": "stream",
     "text": [
      "1. What is the capital of India?  delhi\n"
     ]
    },
    {
     "name": "stdout",
     "output_type": "stream",
     "text": [
      "✅ Correct!\n",
      "\n"
     ]
    },
    {
     "name": "stdin",
     "output_type": "stream",
     "text": [
      "2. Who developed Python?  guido van rossum\n"
     ]
    },
    {
     "name": "stdout",
     "output_type": "stream",
     "text": [
      "✅ Correct!\n",
      "\n"
     ]
    },
    {
     "name": "stdin",
     "output_type": "stream",
     "text": [
      "3. What keyword is used to define a function in Python?  def\n"
     ]
    },
    {
     "name": "stdout",
     "output_type": "stream",
     "text": [
      "✅ Correct!\n",
      "\n"
     ]
    },
    {
     "name": "stdin",
     "output_type": "stream",
     "text": [
      "4. What is 5 * 6?  30\n"
     ]
    },
    {
     "name": "stdout",
     "output_type": "stream",
     "text": [
      "✅ Correct!\n",
      "\n"
     ]
    },
    {
     "name": "stdin",
     "output_type": "stream",
     "text": [
      "5. Is Python case-sensitive when dealing with identifiers? (yes/no):  yes\n"
     ]
    },
    {
     "name": "stdout",
     "output_type": "stream",
     "text": [
      "✅ Correct!\n",
      "\n",
      "Your score: 5 out of 5\n"
     ]
    }
   ],
   "source": [
    "# Define quiz questions and answers\n",
    "quiz = {\n",
    "    \"1. What is the capital of India? \": \"delhi\",\n",
    "    \"2. Who developed Python? \": \"guido van rossum\",\n",
    "    \"3. What keyword is used to define a function in Python? \": \"def\",\n",
    "    \"4. What is 5 * 6? \": \"30\",\n",
    "    \"5. Is Python case-sensitive when dealing with identifiers? (yes/no): \": \"yes\"\n",
    "}\n",
    "# Start quiz\n",
    "score = 0\n",
    "print(\"📝 Welcome to the Mini Quiz!\\n\")\n",
    "# Ask questions\n",
    "for question, answer in quiz.items():\n",
    "    user_answer = input(question).strip().lower()\n",
    "    if user_answer == answer:\n",
    "        print(\"✅ Correct!\\n\")\n",
    "        score += 1\n",
    "    else:\n",
    "        print(f\"Wrong! Correct answer is: {answer}\\n\")\n",
    "# Final score\n",
    "print(f\"Your score: {score} out of {len(quiz)}\")"
   ]
  }
 ],
 "metadata": {
  "kernelspec": {
   "display_name": "Python [conda env:base] *",
   "language": "python",
   "name": "conda-base-py"
  },
  "language_info": {
   "codemirror_mode": {
    "name": "ipython",
    "version": 3
   },
   "file_extension": ".py",
   "mimetype": "text/x-python",
   "name": "python",
   "nbconvert_exporter": "python",
   "pygments_lexer": "ipython3",
   "version": "3.13.5"
  }
 },
 "nbformat": 4,
 "nbformat_minor": 5
}
