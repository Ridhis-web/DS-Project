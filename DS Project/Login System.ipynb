{
 "cells": [
  {
   "cell_type": "code",
   "execution_count": 1,
   "id": "baac5526-4b44-4053-a1f2-2be171419000",
   "metadata": {},
   "outputs": [
    {
     "name": "stdin",
     "output_type": "stream",
     "text": [
      "username: Ridhs\n",
      "password: ridhz16\n"
     ]
    },
    {
     "name": "stdout",
     "output_type": "stream",
     "text": [
      "login successful\n"
     ]
    }
   ],
   "source": [
    "#Login System with 3 attempts\n",
    "username = \"Ridhs\"\n",
    "password = \"ridhz16\" \n",
    "for i in range(3):\n",
    "    user = input(\"username:\")\n",
    "    pwd = input(\"password:\")\n",
    "    if user == username and pwd == password:\n",
    "        print(\"login successful\")\n",
    "        break\n",
    "    else:\n",
    "        print(\"wrong username or pswd\")\n",
    "if i==2:\n",
    "    print(\"3 attempts finished\")"
   ]
  },
  {
   "cell_type": "code",
   "execution_count": null,
   "id": "c8ef29e8-e138-446a-8ffd-69d46f0967c9",
   "metadata": {},
   "outputs": [],
   "source": []
  }
 ],
 "metadata": {
  "kernelspec": {
   "display_name": "Python 3 (ipykernel)",
   "language": "python",
   "name": "python3"
  },
  "language_info": {
   "codemirror_mode": {
    "name": "ipython",
    "version": 3
   },
   "file_extension": ".py",
   "mimetype": "text/x-python",
   "name": "python",
   "nbconvert_exporter": "python",
   "pygments_lexer": "ipython3",
   "version": "3.12.4"
  }
 },
 "nbformat": 4,
 "nbformat_minor": 5
}
